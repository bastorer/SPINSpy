{
 "cells": [
  {
   "cell_type": "markdown",
   "metadata": {},
   "source": [
    "# SPINSpy Tutorial (2D): "
   ]
  },
  {
   "cell_type": "markdown",
   "metadata": {},
   "source": [
    ">This document will (hopefully) show you everything that you need to know to be able to process your SPINS outputs using python (why python? Because it's not MATLAB). This tutorial will assume that you have a basic understanding of python syntax.\n",
    ">\n",
    ">To begin, we import some useful packages. Base python is fairly bare-bones, but you'll find that there's a package for almost anything that you want."
   ]
  },
  {
   "cell_type": "code",
   "execution_count": 1,
   "metadata": {
    "collapsed": false
   },
   "outputs": [],
   "source": [
    "%matplotlib inline \n",
    "# Tells the system to plot in-line, only necessary for iPython notebooks,\n",
    "# not regular command-line python\n",
    "import numpy as np\n",
    "import os\n",
    "import sys\n",
    "import matplotlib.pyplot as plt\n",
    "import time"
   ]
  },
  {
   "cell_type": "code",
   "execution_count": 4,
   "metadata": {
    "collapsed": false
   },
   "outputs": [
    {
     "name": "stdout",
     "output_type": "stream",
     "text": [
      "Creating 2D data...\n",
      "Done!\n"
     ]
    }
   ],
   "source": [
    "# Now that we have our packages, we need data. The file 'make_2d_data.py' will\n",
    "# generate a sample data set. Let's run that now.\n",
    "\n",
    "execfile('make_2d_data.py')"
   ]
  },
  {
   "cell_type": "markdown",
   "metadata": {},
   "source": [
    "\n",
    "\n",
    ">If we want to use our shiny python scripts, we'll need to import them too."
   ]
  },
  {
   "cell_type": "code",
   "execution_count": 5,
   "metadata": {
    "collapsed": false
   },
   "outputs": [],
   "source": [
    "import spinspy as spy\n",
    "import matpy as mp"
   ]
  },
  {
   "cell_type": "markdown",
   "metadata": {},
   "source": [
    "> If we want a quick man-page style summary, we can call `help(spy)`. We can also help `help(spy.<func>)` for more information on the function `<func>`. Since the data that we're looking at is in a different directory, let's specify that now.\n",
    ">> Note: This means that you don't need to be in the same directory as your data."
   ]
  },
  {
   "cell_type": "code",
   "execution_count": 6,
   "metadata": {
    "collapsed": false
   },
   "outputs": [
    {
     "name": "stdout",
     "output_type": "stream",
     "text": [
      "Help on package spinspy:\n",
      "\n",
      "NAME\n",
      "    spinspy\n",
      "\n",
      "FILE\n",
      "    /u/bastorer/Documents/PyLab/SPINSpy/spinspy/__init__.py\n",
      "\n",
      "DESCRIPTION\n",
      "    # SPINSPY\n",
      "    #   This module contains functions that are\n",
      "    #   designed to handle SPINS-type outputs.\n",
      "    #   The provided functions are listed below,\n",
      "    #   along with basic usage information.\n",
      "\n",
      "PACKAGE CONTENTS\n",
      "    get_diagnostics\n",
      "    get_shape\n",
      "    grid\n",
      "    isdim\n",
      "    make_movie\n",
      "    reader\n",
      "    set_prefix\n",
      "    spinspy_classes\n",
      "\n",
      "FUNCTIONS\n",
      "    get_diagnostics(fp='diagnostics.txt')\n",
      "        ## ------------------\n",
      "        ## Purpose: Parse diagnostics.txt and return a\n",
      "        ##          class that contains each diagnostic\n",
      "        ##          variable.\n",
      "        ## Inputs:\n",
      "        ##    fp (optional): Specifies the filename of\n",
      "        ##                   of the diagnostics file.\n",
      "        ## Usage: \n",
      "        ##    diag = spinspy.get_diagnostics()\n",
      "    \n",
      "    get_shape()\n",
      "        ## Determine simulation parameters\n",
      "        ## Purpose:\n",
      "        ##     If spins.conf exists\n",
      "        ##         parse spins.conf\n",
      "        ##     Else\n",
      "        ##         Raise error\n",
      "        ##\n",
      "        ## Usage:\n",
      "        ##     data = spinspy.get_shape()\n",
      "        ##\n",
      "        ##     data.display() prints a summary\n",
      "        ##                    of known values\n",
      "        ## ------\n",
      "    \n",
      "    grid(type='vector')\n",
      "        ## Read in the grid as either vectors (1)\n",
      "        ## or full matrices (2).\n",
      "        ## (1) x,y[,z] = spinspy.grid()\n",
      "        ## (2) x,y[,z] = spinspy.grid(type='full')\n",
      "        ## ------\n",
      "    \n",
      "    reader(var, *args, **kwargs)\n",
      "\n",
      "DATA\n",
      "    __all__ = ['get_shape', 'grid', 'reader', 'spinspy_classes', 'get_diag...\n",
      "    __author__ = 'Ben Storer <bastorer@uwaterloo.ca>'\n",
      "    __date__ = '29th of April, 2015'\n",
      "\n",
      "DATE\n",
      "    29th of April, 2015\n",
      "\n",
      "AUTHOR\n",
      "    Ben Storer <bastorer@uwaterloo.ca>\n",
      "\n",
      "\n"
     ]
    }
   ],
   "source": [
    "help(spy)\n",
    "spy.set_prefix('Data/2d')"
   ]
  },
  {
   "cell_type": "markdown",
   "metadata": {},
   "source": [
    "## Reading Full Files"
   ]
  },
  {
   "cell_type": "markdown",
   "metadata": {},
   "source": [
    ">Now that we have all of our tools, let's start doing! Let's see what we have first."
   ]
  },
  {
   "cell_type": "code",
   "execution_count": 7,
   "metadata": {
    "collapsed": false
   },
   "outputs": [
    {
     "name": "stdout",
     "output_type": "stream",
     "text": [
      "q.1         q.12        q.4         q.7         spins.conf\r\n",
      "q.10        q.2         q.5         q.8         xgrid\r\n",
      "q.11        q.3         q.6         q.9         ygrid\r\n"
     ]
    }
   ],
   "source": [
    "ls Data/2d"
   ]
  },
  {
   "cell_type": "markdown",
   "metadata": {},
   "source": [
    "> We have q (potential vorticity, this is a QG example). Let's read and plot our initial q field."
   ]
  },
  {
   "cell_type": "code",
   "execution_count": 17,
   "metadata": {
    "collapsed": false
   },
   "outputs": [],
   "source": [
    "q = spy.reader('q', 2, [0,-1], [0,-1])"
   ]
  },
  {
   "cell_type": "markdown",
   "metadata": {},
   "source": [
    ">What the heck did that just do? Let's break it down and look at the inputs.\n",
    ">\n",
    ">* `'h'` : This tells the function which variable to load (in this case, h)\n",
    ">* `0` : This is the index, so we will load h.0.\n",
    ">* `[0,-1]` : The x-range to load. This is shorthand and is equivalent to ':' from MATLAB. \n",
    ">* `[0,-1]` : The y-range\n",
    ">\n",
    ">Here we have loaded the entire thing. Alternatively, you could have given a single value or a list of indices. That is, giving `0` would take the first slice, `[0,100]` takes the first 100 elements, and `[0,2,4,6]` takes the first, third, fifth, and, seventh elements."
   ]
  },
  {
   "cell_type": "code",
   "execution_count": 18,
   "metadata": {
    "collapsed": false
   },
   "outputs": [
    {
     "data": {
      "text/plain": [
       "(128, 128)"
      ]
     },
     "execution_count": 18,
     "metadata": {},
     "output_type": "execute_result"
    }
   ],
   "source": [
    "q.shape"
   ]
  },
  {
   "cell_type": "markdown",
   "metadata": {},
   "source": [
    ">Note that this is ordered as (Nx,Ny). If we had wanted MATLAB style ordering (Ny,Nx), we could have used the optional argument `ordering = 'matlab'` (useful for some plotting). The default is `ordering = 'natural'` (useful because it feels right)."
   ]
  },
  {
   "cell_type": "markdown",
   "metadata": {},
   "source": [
    "## Loading Grids and Simulation Information"
   ]
  },
  {
   "cell_type": "markdown",
   "metadata": {},
   "source": [
    ">To begin, let's load in our grid. Since we aren't dealing with mapped grids, we only need vectors (the default behaviour)."
   ]
  },
  {
   "cell_type": "code",
   "execution_count": 19,
   "metadata": {
    "collapsed": false
   },
   "outputs": [
    {
     "name": "stdout",
     "output_type": "stream",
     "text": [
      "The shape of x is (128,) and the shape of y is (128,)\n"
     ]
    }
   ],
   "source": [
    "#x,y = spy.grid()\n",
    "x = spy.reader('x',[0,-1],0)\n",
    "y = spy.reader('y',0,[0,-1])\n",
    "print('The shape of x is {0} and the shape of y is {1}'.format(x.shape,y.shape))"
   ]
  },
  {
   "cell_type": "markdown",
   "metadata": {},
   "source": [
    ">Perfect, now we have our grid vectors. We can also load in grid information, such as the domain size and limits. This is stored in a class that has a method called `display'. These are illustrated below."
   ]
  },
  {
   "cell_type": "code",
   "execution_count": 20,
   "metadata": {
    "collapsed": false
   },
   "outputs": [
    {
     "name": "stdout",
     "output_type": "stream",
     "text": [
      "(128, 128, 1)\n",
      "---\n",
      "2-dimensional simulation:\n",
      "  x-Dimension:\n",
      "    Number of Points: 128\n",
      "    Length of Domain: 1.000e+05\n",
      "    Bounds of Domain: n/a\n",
      "    Type: None\n",
      "  y-Dimension:\n",
      "    Number of Points: 128\n",
      "    Length of Domain: 1.000e+05\n",
      "    Bounds of Domain: n/a\n",
      "    Type: None\n",
      "Other parameters:\n",
      "  beta: 8.42506982132\n",
      "  dt: 45.0\n",
      "  rd: 10000000.0\n",
      "  tmax: 86400.0\n",
      "  tplot: 6750.0\n",
      "Settings:\n"
     ]
    }
   ],
   "source": [
    "data = spy.get_shape()\n",
    "print(data.Nx,data.Ny,data.Nz)\n",
    "print('---')\n",
    "data.display()"
   ]
  },
  {
   "cell_type": "markdown",
   "metadata": {},
   "source": [
    "## Plotting"
   ]
  },
  {
   "cell_type": "markdown",
   "metadata": {},
   "source": [
    ">We now have our grid vectors and height field loaded into memory, so it's time to try some plotting! A standard plotting library in python is matplotlib, which replicates many of MATLAB's 2D plotting functions. For example, here we have a pcolor and contour plot."
   ]
  },
  {
   "cell_type": "code",
   "execution_count": 21,
   "metadata": {
    "collapsed": false
   },
   "outputs": [
    {
     "name": "stdout",
     "output_type": "stream",
     "text": [
      "Time to plot: 9.43e-02\n"
     ]
    },
    {
     "data": {
      "image/png": "[encoded data removed]",
      "text/plain": [
       "<matplotlib.figure.Figure at 0x114f72ed0>"
      ]
     },
     "metadata": {},
     "output_type": "display_data"
    }
   ],
   "source": [
    "plt.figure(1)\n",
    "t0 = time.clock()\n",
    "plt.contour(x,y,q.transpose()) # Transpose for plotting order\n",
    "t1 = time.clock()\n",
    "print('Time to plot: {0:1.2e}'.format(t1-t0))\n",
    "plt.title('q');\n",
    "plt.xlabel('x');\n",
    "plt.ylabel('y');"
   ]
  },
  {
   "cell_type": "code",
   "execution_count": 22,
   "metadata": {
    "collapsed": false
   },
   "outputs": [
    {
     "name": "stdout",
     "output_type": "stream",
     "text": [
      "Time to plot: 8.83e-01\n"
     ]
    },
    {
     "data": {
      "image/png": "[encoded data removed]",
      "text/plain": [
       "<matplotlib.figure.Figure at 0x1150932d0>"
      ]
     },
     "metadata": {},
     "output_type": "display_data"
    }
   ],
   "source": [
    "plt.figure(2)\n",
    "t0 = time.clock()\n",
    "plt.pcolor(x,y,q.transpose());\n",
    "t1 = time.clock()\n",
    "print('Time to plot: {0:1.2e}'.format(t1-t0))\n",
    "plt.title('Height Field');\n",
    "plt.xlabel('x');\n",
    "plt.ylabel('y');"
   ]
  },
  {
   "cell_type": "code",
   "execution_count": 23,
   "metadata": {
    "collapsed": false
   },
   "outputs": [
    {
     "name": "stdout",
     "output_type": "stream",
     "text": [
      "Time to plot: 8.15e-02\n"
     ]
    },
    {
     "data": {
      "image/png": "[encoded data removed]",
      "text/plain": [
       "<matplotlib.figure.Figure at 0x11517b850>"
      ]
     },
     "metadata": {},
     "output_type": "display_data"
    }
   ],
   "source": [
    "plt.figure(3)\n",
    "t0 = time.clock()\n",
    "plt.pcolormesh(x,y,q.transpose(), cmap='darkjet')\n",
    "t1 = time.clock()\n",
    "print('Time to plot: {0:1.2e}'.format(t1-t0))\n",
    "plt.title('Height Field')\n",
    "plt.xlabel('x')\n",
    "plt.ylabel('y')\n",
    "plt.axis('tight')\n",
    "plt.show()"
   ]
  },
  {
   "cell_type": "markdown",
   "metadata": {},
   "source": [
    ">We've just seen three examples of 2D plots: `contour`, `pcolor`, and `pcolormesh` (`contourf` also exists). In general, if you'll be working with high resolution rectangular grids, choose `pcolormesh` over `pcolor` as it is cheaper on memory and time. The time taken for each plot was printed when you made the plots and pcolormesh was significantly faster! (Note: pcolormesh will not work for mapped grids)\n",
    ">\n",
    ">Also, both `pcolor` and `pcolormesh` have the unfortunate habit of adding extra white space, so you will often need to specify the axis limits or call plt.axis('tight')\n",
    ">\n",
    ">Most MATLAB colour maps are also available in matplotlib, you just need to set the optional argument `cmap='colourmap_name'`. The package matpy provides darkjet."
   ]
  },
  {
   "cell_type": "code",
   "execution_count": 21,
   "metadata": {
    "collapsed": false
   },
   "outputs": [],
   "source": []
  },
  {
   "cell_type": "code",
   "execution_count": 62,
   "metadata": {
    "collapsed": false
   },
   "outputs": [],
   "source": []
  },
  {
   "cell_type": "code",
   "execution_count": 62,
   "metadata": {
    "collapsed": false
   },
   "outputs": [],
   "source": []
  },
  {
   "cell_type": "code",
   "execution_count": 62,
   "metadata": {
    "collapsed": false
   },
   "outputs": [],
   "source": []
  },
  {
   "cell_type": "code",
   "execution_count": 62,
   "metadata": {
    "collapsed": false
   },
   "outputs": [],
   "source": []
  }
 ],
 "metadata": {
  "kernelspec": {
   "display_name": "Python 2",
   "language": "python",
   "name": "python2"
  },
  "language_info": {
   "codemirror_mode": {
    "name": "ipython",
    "version": 2
   },
   "file_extension": ".py",
   "mimetype": "text/x-python",
   "name": "python",
   "nbconvert_exporter": "python",
   "pygments_lexer": "ipython2",
   "version": "2.7.10"
  }
 },
 "nbformat": 4,
 "nbformat_minor": 0
}
