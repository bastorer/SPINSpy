{
 "metadata": {
  "name": "",
  "signature": "sha256:c8b90bf2597600a343ea3c2feaeefd21a14516d590a8ca6d416e5e9ab3b9624f"
 },
 "nbformat": 3,
 "nbformat_minor": 0,
 "worksheets": [
  {
   "cells": [
    {
     "cell_type": "heading",
     "level": 1,
     "metadata": {},
     "source": [
      "SPINSpy Tutorial: "
     ]
    },
    {
     "cell_type": "markdown",
     "metadata": {},
     "source": [
      ">This document will (hopefully) show you everything that you need to know to be able to process your SPINS outputs using python (why python? Because it's not MATLAB). This tutorial will assume that you have a basic understanding of python syntax.\n",
      ">\n",
      ">To begin, we import some useful packages. Base python is fairly bare-bones, but you'll find that there's a package for almost anything that you want."
     ]
    },
    {
     "cell_type": "code",
     "collapsed": false,
     "input": [
      "%matplotlib inline \n",
      "# Tells the system to plot in-line, only necessary for iPython notebooks,\n",
      "# not regular commandline python\n",
      "import numpy as np\n",
      "import os\n",
      "import sys\n",
      "import matplotlib.pyplot as plt\n",
      "import time"
     ],
     "language": "python",
     "metadata": {},
     "outputs": [],
     "prompt_number": 1
    },
    {
     "cell_type": "markdown",
     "metadata": {},
     "source": [
      ">Now that we have some packages to work with, let's see what files we have. These sample files, provided by (more correctly stolen from) David, and are part of a mode-2 simulation.\n",
      ">\n",
      ">* __rho.15__: binary file with the output 15 of the density field\n",
      ">* __[x,y,z]grid__: binary file with the grids\n",
      ">* __matpy__: a package with some useful functions (such as darkjet, just for you Marek)\n",
      ">* __spinspy__: a package with the SPINS readers\n",
      "\n",
      ">If we want to use our shiny python scripts, we'll need to import them too."
     ]
    },
    {
     "cell_type": "code",
     "collapsed": false,
     "input": [
      "import spinspy as spy\n",
      "import matpy as mp"
     ],
     "language": "python",
     "metadata": {},
     "outputs": [],
     "prompt_number": 2
    },
    {
     "cell_type": "markdown",
     "metadata": {},
     "source": [
      "> If we want a quick man-page style summary, we can call `help(spy)`"
     ]
    },
    {
     "cell_type": "code",
     "collapsed": false,
     "input": [
      "help(spy)"
     ],
     "language": "python",
     "metadata": {},
     "outputs": [
      {
       "output_type": "stream",
       "stream": "stdout",
       "text": [
        "Help on package spinspy:\n",
        "\n",
        "NAME\n",
        "    spinspy\n",
        "\n",
        "FILE\n",
        "    /u/bastorer/Documents/PyLab/SPINSpy/spinspy/__init__.py\n",
        "\n",
        "DESCRIPTION\n",
        "    # SPINSPY\n",
        "    #   This module contains functions that are\n",
        "    #   designed to handle SPINS-type outputs.\n",
        "    #   The provided functions are listed below,\n",
        "    #   along with basic usage information.\n",
        "\n",
        "PACKAGE CONTENTS\n",
        "    get_shape\n",
        "    grid\n",
        "    reader\n",
        "    spinspy_classes\n",
        "\n",
        "FUNCTIONS\n",
        "    get_shape()\n",
        "        ## Determine simulation parameters\n",
        "        ## Purpose:\n",
        "        ##     If spins.conf exists\n",
        "        ##         parse spins.conf\n",
        "        ##     Else\n",
        "        ##         Use hard-coded values\n",
        "        ##\n",
        "        ## Usage:\n",
        "        ##     data = spinspy.get_shape()\n",
        "        ##\n",
        "        ##     data.display() prints a summary\n",
        "        ##                    of known values\n",
        "        ## ------\n",
        "    \n",
        "    grid(type='vector')\n",
        "        ## Read in the grid as either vectors (1)\n",
        "        ## or full matrices (2).\n",
        "        ## (1) x,y[,z] = spinspy.grid()\n",
        "        ## (2) x,y[,z] = spinspy.grid(type='full')\n",
        "        ## ------\n",
        "    \n",
        "    reader(var, *args, **kwargs)\n",
        "        ## Load SPINS outputs into numpy arrays.\n",
        "        ## Usage: field = spinspy.reader(var, *args, **kwargs)\n",
        "        ## Inputs:\n",
        "        ##    var: string indicating the field to be read, 'rho', 'x', etc.\n",
        "        ##    args: Required and ordered inputs.\n",
        "        ##        index: integer indicating output for non-grid fields\n",
        "        ##            i.e. 15 for to load field.15\n",
        "        ##        slicing: how to slice, one for each dimension\n",
        "        ##    kwargs: Optional keyword arguments\n",
        "        ##        type: 'ndarray' (default) or 'memmap'\n",
        "        ##              determines the output type\n",
        "        ##        ordering: 'natural' (default) or 'matlab'\n",
        "        ##              determines dimension ordering (x,y,z) vs (y,x,z)\n",
        "        ##\n",
        "        ## Examples:\n",
        "        ## 1) To load rho.15 for a full 3D grid\n",
        "        ##      rho = spinspy.reader('rho',15,[0,-1],[0,-1],[0,-1])\n",
        "        ## 2) To load rho.15 on a 3D grid but at first z\n",
        "        ##      rho = spinspy.reader('rho',15,[0,-1],[0,-1],0)\n",
        "        ## 3) To load x (grid) as a vector\n",
        "        ##        x = spinspy.reader('x',[0,-1],0,0)\n",
        "        ## 4) To load rho.15 on a 2D grid, but in matlab ordering\n",
        "        ##      rho = spinspy.reader('rho',15,[0,-1],[0,-1],ordering='matlab')\n",
        "        ## ------\n",
        "\n",
        "DATA\n",
        "    __all__ = ['get_shape', 'grid', 'reader', 'spinspy_classes']\n",
        "    __author__ = 'Ben Storer <bastorer@uwaterloo.ca>'\n",
        "    __date__ = '16th of December, 2014'\n",
        "\n",
        "DATE\n",
        "    16th of December, 2014\n",
        "\n",
        "AUTHOR\n",
        "    Ben Storer <bastorer@uwaterloo.ca>\n",
        "\n",
        "\n"
       ]
      }
     ],
     "prompt_number": 3
    },
    {
     "cell_type": "heading",
     "level": 2,
     "metadata": {},
     "source": [
      "Reading Full Files"
     ]
    },
    {
     "cell_type": "markdown",
     "metadata": {},
     "source": [
      ">Now that we have all of our tools, let's start doing! To begin, let's load our density field."
     ]
    },
    {
     "cell_type": "code",
     "collapsed": false,
     "input": [
      "rho = spy.reader('rho', 15, [0,-1], [0,-1], [0,-1])"
     ],
     "language": "python",
     "metadata": {},
     "outputs": [],
     "prompt_number": 5
    },
    {
     "cell_type": "markdown",
     "metadata": {},
     "source": [
      ">What the heck did that just do? Let's break it down and look at the inputs.\n",
      ">\n",
      ">* `'rho'` : This tells the function which variable to load (in this case, rho)\n",
      ">* `15` : This is the index, so we will load rho.15. _x,y,z_ variables done take an index.\n",
      ">* `[0,-1]` : The x-range to load. This is shorthand and is equivalent to ':' from MATLAB. \n",
      ">* `[0,-1]` : The y-range\n",
      ">* `[0,-1]` : The z-range\n",
      ">\n",
      ">Here we have loaded the entire thing. Alternatively, you could have given a single value or a list of indices. That is, giving `0` would take the first slice, `[0,100]` takes the first 100 elements, and `[0,2,4,6]` takes the first, third, fifth, and, seventh elements.\n",
      ">\n",
      "> To load an x-z slice we could have done:\n",
      ">`rho = spy.reader('rho',15,[0,-1],0,[0,-1])`"
     ]
    },
    {
     "cell_type": "code",
     "collapsed": false,
     "input": [
      "rho.shape"
     ],
     "language": "python",
     "metadata": {},
     "outputs": [
      {
       "metadata": {},
       "output_type": "pyout",
       "prompt_number": 6,
       "text": [
        "(128, 128)"
       ]
      }
     ],
     "prompt_number": 6
    },
    {
     "cell_type": "markdown",
     "metadata": {},
     "source": [
      ">Note that this is ordered as (Nx,Ny,Nz). If we had wanted MATLAB style ordering (Ny,Nx,Nz), we could have used the optional argument `ordering = 'matlab'` (useful for some plotting). The default is `ordering = 'natural'` (useful because it feels right).\n",
      "\n",
      ">If we had high resolution or wanted to load multiply variables into memory simultaneously, we might start running into memory issues. For example, let's look at the size of rho."
     ]
    },
    {
     "cell_type": "code",
     "collapsed": false,
     "input": [
      "(rho.nbytes)/(1024.0**2)"
     ],
     "language": "python",
     "metadata": {},
     "outputs": [
      {
       "metadata": {},
       "output_type": "pyout",
       "prompt_number": 7,
       "text": [
        "0.125"
       ]
      }
     ],
     "prompt_number": 7
    },
    {
     "cell_type": "markdown",
     "metadata": {},
     "source": [
      ">So rho is taking up about 800 mb of memory. We could easily imagine a higer resolution grid taking up much more, quickly eating up all available memory. Instead, it may be useful to only load a single 1D or 2D slice. This is particularly true with the grids (since we only need a 1D vector to describe each dimension) and when we want to make 2D plots (such as pcolor or contour). Let's look at that now."
     ]
    },
    {
     "cell_type": "heading",
     "level": 2,
     "metadata": {},
     "source": [
      "Loading Parts of Files"
     ]
    },
    {
     "cell_type": "markdown",
     "metadata": {},
     "source": [
      ">To begin, let's load in our grid. We know that they only need to be 1D objects, so they should be pretty small. Remember, for loading `x`, `y`, or `z` there is no index value (the 15 from the rho loading call). Notice that the reader automatically squeezes out any singleton dimensions, so our grid vectors are actually vectors!"
     ]
    },
    {
     "cell_type": "code",
     "collapsed": false,
     "input": [
      "x = spy.reader('x', [0,-1],0,0)\n",
      "y = spy.reader('y', 0,[0,-1],0)\n",
      "z = spy.reader('z', 0,0,[0,-1])"
     ],
     "language": "python",
     "metadata": {},
     "outputs": [],
     "prompt_number": 8
    },
    {
     "cell_type": "code",
     "collapsed": false,
     "input": [
      "print('The shape of x is {0} and it takes up {1}kb.'.format(x.shape, x.nbytes/(1024.0)))\n",
      "print('The shape of y is {0} and it takes up {1}kb.'.format(y.shape, y.nbytes/(1024.0)))\n",
      "print('The shape of z is {0} and it takes up {1}kb.'.format(z.shape, z.nbytes/(1024.0)))"
     ],
     "language": "python",
     "metadata": {},
     "outputs": [
      {
       "output_type": "stream",
       "stream": "stdout",
       "text": [
        "The shape of x is (128,) and it takes up 1.0kb.\n",
        "The shape of y is (128,) and it takes up 1.0kb.\n"
       ]
      }
     ],
     "prompt_number": 10
    },
    {
     "cell_type": "markdown",
     "metadata": {},
     "source": [
      ">Perfect, now we have our grid vectors and they are fairly small (a few kb). The readers package also provides a function to let you load in all of the grid vectors in one fell swoop.\n",
      "\n",
      ">`x,y,z = spy.grid()`\n",
      "\n",
      "> We can also load in grid information, such as the domain size and limits. This is stored in a class that has a method called `display'. These are illustrated below."
     ]
    },
    {
     "cell_type": "code",
     "collapsed": false,
     "input": [
      "data = spy.get_shape()\n",
      "print(data.Nx,data.Ny,data.Nz)\n",
      "print('---')\n",
      "data.display()"
     ],
     "language": "python",
     "metadata": {},
     "outputs": [
      {
       "output_type": "stream",
       "stream": "stdout",
       "text": [
        "(128, 128, 1)\n",
        "---\n",
        "2-dimensional simulation:\n",
        "  x-Dimension:\n",
        "    Number of Points: 128\n",
        "    Length of Domain: 4.000e+05\n",
        "    Boundas of Domain: 0.000e+00, 4.000e+05\n",
        "    Type: FOURIER\n",
        "  y-Dimension:\n",
        "    Number of Points: 128\n",
        "    Length of Domain: 4.000e+05\n",
        "    Boundas of Domain: 0.000e+00, 4.000e+05\n",
        "    Type: FOURIER\n",
        "Other parameters:\n",
        "  N0: 0.00141421\n",
        "  final_time: 34560000.0\n",
        "  g: 73231257.6\n",
        "  init_time: 0.0\n",
        "  kappa: 0.0\n",
        "  min_x: 0.0\n",
        "  min_y: 0.0\n",
        "  min_z: -4800.0\n",
        "  plot_interval: 43200.0\n",
        "  rot_f: 6.289e-05\n",
        "  visc: 0.0\n",
        "Settings:\n",
        "  enable_tracer: false\n",
        "  file_type: FULL\n",
        "  mapped_grid: false\n",
        "  restart: false\n",
        "  rho_file: vortex_rho\n",
        "  u_file: vortex_u\n",
        "  v_file: vortex_v\n",
        "  w_file: vortex_w\n",
        "  xgrid: vortex_x\n",
        "  ygrid: vortex_y\n",
        "  zgrid: vortex_z\n"
       ]
      }
     ],
     "prompt_number": 11
    },
    {
     "cell_type": "heading",
     "level": 2,
     "metadata": {},
     "source": [
      "Plotting"
     ]
    },
    {
     "cell_type": "markdown",
     "metadata": {},
     "source": [
      ">We now have our grid vectors and rho field loaded into memory, so it's time to try some plotting! A standard plotting library in python is matplotlib, which replicates many of MATLAB's plotting functions. For example, here we have a pcolor and contour plot of an x-z slice of rho."
     ]
    },
    {
     "cell_type": "code",
     "collapsed": false,
     "input": [
      "plt.figure(1)\n",
      "t0 = time.clock()\n",
      "plt.contour(x,z,rho[:,192/2,:].transpose());\n",
      "t1 = time.clock()\n",
      "print('Time to plot: {0:1.2e}'.format(t1-t0))\n",
      "plt.title('Mode-2 Waviness');\n",
      "plt.xlabel('x');\n",
      "plt.ylabel('z');"
     ],
     "language": "python",
     "metadata": {},
     "outputs": [
      {
       "output_type": "stream",
       "stream": "stdout",
       "text": [
        "Time to plot: 1.61e-01\n"
       ]
      },
      {
       "metadata": {},
       "output_type": "display_data",
       "png": "[encoded data removed]",
       "text": [
        "<matplotlib.figure.Figure at 0x1317f3358>"
       ]
      }
     ],
     "prompt_number": 67
    },
    {
     "cell_type": "code",
     "collapsed": false,
     "input": [
      "plt.figure(2)\n",
      "t0 = time.clock()\n",
      "plt.pcolor(x,z,rho[:,192/2,:].transpose());\n",
      "t1 = time.clock()\n",
      "print('Time to plot: {0:1.2e}'.format(t1-t0))\n",
      "plt.title('Mode-2 Waviness');\n",
      "plt.xlabel('x');\n",
      "plt.ylabel('z');"
     ],
     "language": "python",
     "metadata": {},
     "outputs": [
      {
       "output_type": "stream",
       "stream": "stdout",
       "text": [
        "Time to plot: 2.69e+01\n"
       ]
      },
      {
       "metadata": {},
       "output_type": "display_data",
       "png": "[encoded data removed]",
       "text": [
        "<matplotlib.figure.Figure at 0x132024208>"
       ]
      }
     ],
     "prompt_number": 68
    },
    {
     "cell_type": "code",
     "collapsed": false,
     "input": [
      "plt.figure(3)\n",
      "t0 = time.clock()\n",
      "plt.pcolormesh(x,z,rho[:,192/2,:].transpose(), cmap='darkjet')\n",
      "t1 = time.clock()\n",
      "print('Time to plot: {0:1.2e}'.format(t1-t0))\n",
      "plt.title('Mode-2 Waviness')\n",
      "plt.xlabel('x')\n",
      "plt.ylabel('z')\n",
      "plt.axis('tight')\n",
      "plt.show()\n",
      "#plt.gca().set_xlim((data.xlim[0],data.xlim[1]))\n",
      "#plt.gca().set_ylim((data.zlim[0],data.zlim[1]))"
     ],
     "language": "python",
     "metadata": {},
     "outputs": [
      {
       "output_type": "stream",
       "stream": "stdout",
       "text": [
        "Time to plot: 1.04e-01\n"
       ]
      },
      {
       "metadata": {},
       "output_type": "display_data",
       "png": "[encoded data removed]",
       "text": [
        "<matplotlib.figure.Figure at 0x163b66a58>"
       ]
      }
     ],
     "prompt_number": 62
    },
    {
     "cell_type": "markdown",
     "metadata": {},
     "source": [
      ">We've just seen three examples of 2D plots: `contour`, `pcolor`, and `pcolormesh` (`contourf` also exists). In general, if you'll be working with high resolution rectangular grids, choose `pcolormesh` over `pcolor` as it is cheaper on memory and time. The time taken for each plot was printed when you made the plots and pcolormesh was two orders of magnitude faster!\n",
      ">\n",
      ">Also, both `pcolor` and `pcolormesh` have the unfortunate habit of adding extra white space, so you will often need to specify the axis limits.\n",
      ">\n",
      ">Most MATLAB colour maps are also available in matplotlib, you just need to set the optional argument `cmap='colourmap_name'`."
     ]
    },
    {
     "cell_type": "code",
     "collapsed": false,
     "input": [],
     "language": "python",
     "metadata": {},
     "outputs": [],
     "prompt_number": 21
    },
    {
     "cell_type": "code",
     "collapsed": false,
     "input": [],
     "language": "python",
     "metadata": {},
     "outputs": [],
     "prompt_number": 62
    },
    {
     "cell_type": "code",
     "collapsed": false,
     "input": [],
     "language": "python",
     "metadata": {},
     "outputs": [],
     "prompt_number": 62
    },
    {
     "cell_type": "code",
     "collapsed": false,
     "input": [],
     "language": "python",
     "metadata": {},
     "outputs": [],
     "prompt_number": 62
    },
    {
     "cell_type": "code",
     "collapsed": false,
     "input": [],
     "language": "python",
     "metadata": {},
     "outputs": [],
     "prompt_number": 62
    }
   ],
   "metadata": {}
  }
 ]
}